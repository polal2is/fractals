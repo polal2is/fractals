{
 "cells": [
  {
   "cell_type": "code",
   "execution_count": 54,
   "metadata": {},
   "outputs": [
    {
     "data": {
      "text/html": [
       "<style>.container { width:100% !important; }</style>"
      ],
      "text/plain": [
       "<IPython.core.display.HTML object>"
      ]
     },
     "metadata": {},
     "output_type": "display_data"
    }
   ],
   "source": [
    "from IPython.core.display import display, HTML\n",
    "display(HTML(\"<style>.container { width:100% !important; }</style>\"))\n",
    "\n",
    "from IPython.display import FileLink\n",
    "\n",
    "from ipywidgets import interact\n",
    "import ipywidgets as widgets\n",
    "\n",
    "import numpy as np\n",
    "import matplotlib.pyplot as plt\n",
    "from matplotlib import cm\n",
    "\n",
    "import os"
   ]
  },
  {
   "cell_type": "code",
   "execution_count": 55,
   "metadata": {},
   "outputs": [],
   "source": [
    "def mandelbrot(n_rows, n_columns, iterations, cx, cy, lim):\n",
    "    y_Lim = lim\n",
    "    x_Lim = lim\n",
    "    \n",
    "    x_cor = np.linspace(-x_Lim, x_Lim, n_rows)\n",
    "    y_cor = np.linspace(-y_Lim, y_Lim, n_columns)\n",
    "    x_len = len(x_cor)\n",
    "    y_len = len(y_cor)\n",
    "    output = np.zeros((x_len,y_len))\n",
    "    c = complex(cx, cy)\n",
    "    \n",
    "    for i in range(x_len):\n",
    "        for j in range(y_len):\n",
    "            z = complex(x_cor[i], y_cor[j])\n",
    "            count = 0\n",
    "            for k in range(iterations):\n",
    "                z = (z**2) + c\n",
    "                count = count + 1\n",
    "                if (abs(z) > 4):\n",
    "                    break\n",
    "            output[i, j] = count\n",
    "        if i%250 == 0:\n",
    "            display(HTML(str(int((i/x_len)*100)) + \"% completed\"))\n",
    "\n",
    "    return output"
   ]
  },
  {
   "cell_type": "code",
   "execution_count": 56,
   "metadata": {},
   "outputs": [],
   "source": [
    "style = {'description_width': 'initial'}\n",
    "\n",
    "cx_widget = widgets.FloatSlider(\n",
    "    value = 0,\n",
    "    min = -2,\n",
    "    max = 2,\n",
    "    step = 0.01,\n",
    "    description = 'P1',\n",
    "    continuous_update = False,\n",
    "    orientation='horizontal',\n",
    "    style = style)\n",
    "\n",
    "cy_widget = widgets.FloatSlider(\n",
    "    value = 0,\n",
    "    min = -2,\n",
    "    max = 2,\n",
    "    step = 0.01,\n",
    "    description = 'P2',\n",
    "    continuous_update = False,\n",
    "    orientation='horizontal',\n",
    "    style = style)\n",
    "\n",
    "Colormaps = ['Accent', 'Accent_r', 'Blues', 'Blues_r', 'BrBG', 'BrBG_r', 'BuGn', 'BuGn_r', 'BuPu', 'BuPu_r', 'CMRmap', 'CMRmap_r', 'Dark2', 'Dark2_r', 'GnBu', 'GnBu_r', 'Greens', 'Greens_r', 'Greys', 'Greys_r', 'OrRd', 'OrRd_r', 'Oranges', 'Oranges_r', 'PRGn', 'PRGn_r', 'Paired', 'Paired_r', 'Pastel1', 'Pastel1_r', 'Pastel2', 'Pastel2_r', 'PiYG', 'PiYG_r', 'PuBu', 'PuBuGn', 'PuBuGn_r', 'PuBu_r', 'PuOr', 'PuOr_r', 'PuRd', 'PuRd_r', 'Purples', 'Purples_r', 'RdBu', 'RdBu_r', 'RdGy', 'RdGy_r', 'RdPu', 'RdPu_r', 'RdYlBu', 'RdYlBu_r', 'RdYlGn', 'RdYlGn_r', 'Reds', 'Reds_r', 'Set1', 'Set1_r', 'Set2', 'Set2_r', 'Set3', 'Set3_r', 'Spectral', 'Spectral_r', 'Wistia', 'Wistia_r', 'YlGn', 'YlGnBu', 'YlGnBu_r', 'YlGn_r', 'YlOrBr', 'YlOrBr_r', 'YlOrRd', 'YlOrRd_r', 'afmhot', 'afmhot_r', 'autumn', 'autumn_r', 'binary', 'binary_r', 'bone', 'bone_r', 'brg', 'brg_r', 'bwr', 'bwr_r', 'cividis', 'cividis_r', 'cool', 'cool_r', 'coolwarm', 'coolwarm_r', 'copper', 'copper_r', 'cubehelix', 'cubehelix_r', 'flag', 'flag_r', 'gist_earth', 'gist_earth_r', 'gist_gray', 'gist_gray_r', 'gist_heat', 'gist_heat_r', 'gist_ncar', 'gist_ncar_r', 'gist_rainbow', 'gist_rainbow_r', 'gist_stern', 'gist_stern_r', 'gist_yarg', 'gist_yarg_r', 'gnuplot', 'gnuplot2', 'gnuplot2_r', 'gnuplot_r', 'gray', 'gray_r', 'hot', 'hot_r', 'hsv', 'hsv_r', 'inferno', 'inferno_r', 'jet', 'jet_r', 'magma', 'magma_r', 'nipy_spectral', 'nipy_spectral_r', 'ocean', 'ocean_r', 'pink', 'pink_r', 'plasma', 'plasma_r', 'prism', 'prism_r', 'rainbow', 'rainbow_r', 'seismic', 'seismic_r', 'spring', 'spring_r', 'summer', 'summer_r', 'tab10', 'tab10_r', 'tab20', 'tab20_r', 'tab20b', 'tab20b_r', 'tab20c', 'tab20c_r', 'terrain', 'terrain_r', 'turbo', 'turbo_r', 'twilight', 'twilight_r', 'twilight_shifted', 'twilight_shifted_r', 'viridis', 'viridis_r', 'winter', 'winter_r']\n",
    "\n",
    "colormap_widget = widgets.Dropdown(\n",
    "    options = Colormaps,\n",
    "    value = 'hot',\n",
    "    description='Colormap',\n",
    "    disabled=False,\n",
    ")"
   ]
  },
  {
   "cell_type": "code",
   "execution_count": 57,
   "metadata": {},
   "outputs": [
    {
     "data": {
      "application/vnd.jupyter.widget-view+json": {
       "model_id": "6b8cec7cee064ec8aa6ba8a08922b9a0",
       "version_major": 2,
       "version_minor": 0
      },
      "text/plain": [
       "interactive(children=(Dropdown(description='Colormap', index=118, options=('Accent', 'Accent_r', 'Blues', 'Blu…"
      ]
     },
     "metadata": {},
     "output_type": "display_data"
    }
   ],
   "source": [
    "Ratio = 1920/1080\n",
    "\n",
    "n_rows = 1000\n",
    "n_columns = n_rows\n",
    "\n",
    "lim = 1.5\n",
    "\n",
    "iterations = 100\n",
    "\n",
    "Resolution = n_rows/30\n",
    "\n",
    "@interact\n",
    "def Plot(Colormap = colormap_widget, cx = cx_widget, cy = cy_widget):\n",
    "\n",
    "    if cx != 0 and cy != 0:\n",
    "    \n",
    "        output = mandelbrot(n_rows, n_columns, iterations, cx, cy, lim)\n",
    "\n",
    "        fig = plt.figure(figsize = (30, 30))\n",
    "        ax = fig.add_subplot(111)\n",
    "        plt.imshow(output.T, cmap = Colormap)\n",
    "        plt.axis(\"off\")\n",
    "        \n",
    "        Dir = 'Fractals/'\n",
    "        if not os.path.exists(Dir):\n",
    "            os.makedirs(Dir)\n",
    "        \n",
    "        Filename = Dir + 'Fractal_' + str(np.round(cx, 2)) + '_' + str(np.round(cy, 2)) + '_' + Colormap + '.png'\n",
    "        plt.savefig(Filename, dpi = Resolution)\n",
    "        \n",
    "        display(FileLink(Filename))\n",
    "\n",
    "        plt.show()\n",
    "        plt.close()"
   ]
  },
  {
   "cell_type": "code",
   "execution_count": 49,
   "metadata": {},
   "outputs": [
    {
     "data": {
      "text/html": [
       "<a href='Fractals/Fractal_-0.03_-0.72_cubehelix.png' target='_blank'>Fractals/Fractal_-0.03_-0.72_cubehelix.png</a><br>"
      ],
      "text/plain": [
       "C:\\Users\\hugof\\Random-Walks\\Fractals\\Fractal_-0.03_-0.72_cubehelix.png"
      ]
     },
     "execution_count": 49,
     "metadata": {},
     "output_type": "execute_result"
    }
   ],
   "source": [
    "Dir = 'Fractals/'\n",
    "\n",
    "cx = 0\n",
    "cy = 0\n",
    "Colormap = 'hot'\n",
    "\n",
    "Filename = Dir + 'Fractal_-0.03_-0.72_cubehelix.png'\n",
    "\n",
    "FileLink(Filename)"
   ]
  }
 ],
 "metadata": {
  "kernelspec": {
   "display_name": "Python 3",
   "language": "python",
   "name": "python3"
  },
  "language_info": {
   "codemirror_mode": {
    "name": "ipython",
    "version": 3
   },
   "file_extension": ".py",
   "mimetype": "text/x-python",
   "name": "python",
   "nbconvert_exporter": "python",
   "pygments_lexer": "ipython3",
   "version": "3.9.5"
  }
 },
 "nbformat": 4,
 "nbformat_minor": 4
}
